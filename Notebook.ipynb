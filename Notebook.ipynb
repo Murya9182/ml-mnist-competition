{
 "cells": [
  {
   "cell_type": "code",
   "execution_count": 1,
   "id": "0a875faf",
   "metadata": {
    "_cell_guid": "b1076dfc-b9ad-4769-8c92-a6c4dae69d19",
    "_uuid": "8f2839f25d086af736a60e9eeb907d3b93b6e0e5",
    "execution": {
     "iopub.execute_input": "2025-10-25T13:38:38.677822Z",
     "iopub.status.busy": "2025-10-25T13:38:38.677482Z",
     "iopub.status.idle": "2025-10-25T13:38:40.447558Z",
     "shell.execute_reply": "2025-10-25T13:38:40.446338Z"
    },
    "papermill": {
     "duration": 1.776744,
     "end_time": "2025-10-25T13:38:40.449309",
     "exception": false,
     "start_time": "2025-10-25T13:38:38.672565",
     "status": "completed"
    },
    "tags": []
   },
   "outputs": [
    {
     "name": "stdout",
     "output_type": "stream",
     "text": [
      "/kaggle/input/digit-recognizer/sample_submission.csv\n",
      "/kaggle/input/digit-recognizer/train.csv\n",
      "/kaggle/input/digit-recognizer/test.csv\n"
     ]
    }
   ],
   "source": [
    "# This Python 3 environment comes with many helpful analytics libraries installed\n",
    "# It is defined by the kaggle/python Docker image: https://github.com/kaggle/docker-python\n",
    "# For example, here's several helpful packages to load\n",
    "\n",
    "import numpy as np # linear algebra\n",
    "import pandas as pd # data processing, CSV file I/O (e.g. pd.read_csv)\n",
    "\n",
    "# Input data files are available in the read-only \"../input/\" directory\n",
    "# For example, running this (by clicking run or pressing Shift+Enter) will list all files under the input directory\n",
    "\n",
    "import os\n",
    "for dirname, _, filenames in os.walk('/kaggle/input'):\n",
    "    for filename in filenames:\n",
    "        print(os.path.join(dirname, filename))\n",
    "\n",
    "# You can write up to 20GB to the current directory (/kaggle/working/) that gets preserved as output when you create a version using \"Save & Run All\" \n",
    "# You can also write temporary files to /kaggle/temp/, but they won't be saved outside of the current session"
   ]
  },
  {
   "cell_type": "code",
   "execution_count": 2,
   "id": "0c3bc143",
   "metadata": {
    "execution": {
     "iopub.execute_input": "2025-10-25T13:38:40.456236Z",
     "iopub.status.busy": "2025-10-25T13:38:40.455846Z",
     "iopub.status.idle": "2025-10-25T13:38:43.586335Z",
     "shell.execute_reply": "2025-10-25T13:38:43.585458Z"
    },
    "papermill": {
     "duration": 3.135349,
     "end_time": "2025-10-25T13:38:43.587719",
     "exception": false,
     "start_time": "2025-10-25T13:38:40.452370",
     "status": "completed"
    },
    "tags": []
   },
   "outputs": [
    {
     "data": {
      "text/html": [
       "<div>\n",
       "<style scoped>\n",
       "    .dataframe tbody tr th:only-of-type {\n",
       "        vertical-align: middle;\n",
       "    }\n",
       "\n",
       "    .dataframe tbody tr th {\n",
       "        vertical-align: top;\n",
       "    }\n",
       "\n",
       "    .dataframe thead th {\n",
       "        text-align: right;\n",
       "    }\n",
       "</style>\n",
       "<table border=\"1\" class=\"dataframe\">\n",
       "  <thead>\n",
       "    <tr style=\"text-align: right;\">\n",
       "      <th></th>\n",
       "      <th>label</th>\n",
       "      <th>pixel0</th>\n",
       "      <th>pixel1</th>\n",
       "      <th>pixel2</th>\n",
       "      <th>pixel3</th>\n",
       "      <th>pixel4</th>\n",
       "      <th>pixel5</th>\n",
       "      <th>pixel6</th>\n",
       "      <th>pixel7</th>\n",
       "      <th>pixel8</th>\n",
       "      <th>...</th>\n",
       "      <th>pixel774</th>\n",
       "      <th>pixel775</th>\n",
       "      <th>pixel776</th>\n",
       "      <th>pixel777</th>\n",
       "      <th>pixel778</th>\n",
       "      <th>pixel779</th>\n",
       "      <th>pixel780</th>\n",
       "      <th>pixel781</th>\n",
       "      <th>pixel782</th>\n",
       "      <th>pixel783</th>\n",
       "    </tr>\n",
       "  </thead>\n",
       "  <tbody>\n",
       "    <tr>\n",
       "      <th>0</th>\n",
       "      <td>1</td>\n",
       "      <td>0</td>\n",
       "      <td>0</td>\n",
       "      <td>0</td>\n",
       "      <td>0</td>\n",
       "      <td>0</td>\n",
       "      <td>0</td>\n",
       "      <td>0</td>\n",
       "      <td>0</td>\n",
       "      <td>0</td>\n",
       "      <td>...</td>\n",
       "      <td>0</td>\n",
       "      <td>0</td>\n",
       "      <td>0</td>\n",
       "      <td>0</td>\n",
       "      <td>0</td>\n",
       "      <td>0</td>\n",
       "      <td>0</td>\n",
       "      <td>0</td>\n",
       "      <td>0</td>\n",
       "      <td>0</td>\n",
       "    </tr>\n",
       "    <tr>\n",
       "      <th>1</th>\n",
       "      <td>0</td>\n",
       "      <td>0</td>\n",
       "      <td>0</td>\n",
       "      <td>0</td>\n",
       "      <td>0</td>\n",
       "      <td>0</td>\n",
       "      <td>0</td>\n",
       "      <td>0</td>\n",
       "      <td>0</td>\n",
       "      <td>0</td>\n",
       "      <td>...</td>\n",
       "      <td>0</td>\n",
       "      <td>0</td>\n",
       "      <td>0</td>\n",
       "      <td>0</td>\n",
       "      <td>0</td>\n",
       "      <td>0</td>\n",
       "      <td>0</td>\n",
       "      <td>0</td>\n",
       "      <td>0</td>\n",
       "      <td>0</td>\n",
       "    </tr>\n",
       "    <tr>\n",
       "      <th>2</th>\n",
       "      <td>1</td>\n",
       "      <td>0</td>\n",
       "      <td>0</td>\n",
       "      <td>0</td>\n",
       "      <td>0</td>\n",
       "      <td>0</td>\n",
       "      <td>0</td>\n",
       "      <td>0</td>\n",
       "      <td>0</td>\n",
       "      <td>0</td>\n",
       "      <td>...</td>\n",
       "      <td>0</td>\n",
       "      <td>0</td>\n",
       "      <td>0</td>\n",
       "      <td>0</td>\n",
       "      <td>0</td>\n",
       "      <td>0</td>\n",
       "      <td>0</td>\n",
       "      <td>0</td>\n",
       "      <td>0</td>\n",
       "      <td>0</td>\n",
       "    </tr>\n",
       "    <tr>\n",
       "      <th>3</th>\n",
       "      <td>4</td>\n",
       "      <td>0</td>\n",
       "      <td>0</td>\n",
       "      <td>0</td>\n",
       "      <td>0</td>\n",
       "      <td>0</td>\n",
       "      <td>0</td>\n",
       "      <td>0</td>\n",
       "      <td>0</td>\n",
       "      <td>0</td>\n",
       "      <td>...</td>\n",
       "      <td>0</td>\n",
       "      <td>0</td>\n",
       "      <td>0</td>\n",
       "      <td>0</td>\n",
       "      <td>0</td>\n",
       "      <td>0</td>\n",
       "      <td>0</td>\n",
       "      <td>0</td>\n",
       "      <td>0</td>\n",
       "      <td>0</td>\n",
       "    </tr>\n",
       "    <tr>\n",
       "      <th>4</th>\n",
       "      <td>0</td>\n",
       "      <td>0</td>\n",
       "      <td>0</td>\n",
       "      <td>0</td>\n",
       "      <td>0</td>\n",
       "      <td>0</td>\n",
       "      <td>0</td>\n",
       "      <td>0</td>\n",
       "      <td>0</td>\n",
       "      <td>0</td>\n",
       "      <td>...</td>\n",
       "      <td>0</td>\n",
       "      <td>0</td>\n",
       "      <td>0</td>\n",
       "      <td>0</td>\n",
       "      <td>0</td>\n",
       "      <td>0</td>\n",
       "      <td>0</td>\n",
       "      <td>0</td>\n",
       "      <td>0</td>\n",
       "      <td>0</td>\n",
       "    </tr>\n",
       "  </tbody>\n",
       "</table>\n",
       "<p>5 rows × 785 columns</p>\n",
       "</div>"
      ],
      "text/plain": [
       "   label  pixel0  pixel1  pixel2  pixel3  pixel4  pixel5  pixel6  pixel7  \\\n",
       "0      1       0       0       0       0       0       0       0       0   \n",
       "1      0       0       0       0       0       0       0       0       0   \n",
       "2      1       0       0       0       0       0       0       0       0   \n",
       "3      4       0       0       0       0       0       0       0       0   \n",
       "4      0       0       0       0       0       0       0       0       0   \n",
       "\n",
       "   pixel8  ...  pixel774  pixel775  pixel776  pixel777  pixel778  pixel779  \\\n",
       "0       0  ...         0         0         0         0         0         0   \n",
       "1       0  ...         0         0         0         0         0         0   \n",
       "2       0  ...         0         0         0         0         0         0   \n",
       "3       0  ...         0         0         0         0         0         0   \n",
       "4       0  ...         0         0         0         0         0         0   \n",
       "\n",
       "   pixel780  pixel781  pixel782  pixel783  \n",
       "0         0         0         0         0  \n",
       "1         0         0         0         0  \n",
       "2         0         0         0         0  \n",
       "3         0         0         0         0  \n",
       "4         0         0         0         0  \n",
       "\n",
       "[5 rows x 785 columns]"
      ]
     },
     "execution_count": 2,
     "metadata": {},
     "output_type": "execute_result"
    }
   ],
   "source": [
    "# Lade die Trainingsdaten\n",
    "train_df = pd.read_csv(\"/kaggle/input/digit-recognizer/train.csv\")\n",
    "\n",
    "# Zeige die ersten 5 Zeilen an\n",
    "train_df.head()"
   ]
  },
  {
   "cell_type": "code",
   "execution_count": 3,
   "id": "22789f82",
   "metadata": {
    "execution": {
     "iopub.execute_input": "2025-10-25T13:38:43.595185Z",
     "iopub.status.busy": "2025-10-25T13:38:43.594910Z",
     "iopub.status.idle": "2025-10-25T13:38:43.710299Z",
     "shell.execute_reply": "2025-10-25T13:38:43.709403Z"
    },
    "papermill": {
     "duration": 0.120818,
     "end_time": "2025-10-25T13:38:43.711770",
     "exception": false,
     "start_time": "2025-10-25T13:38:43.590952",
     "status": "completed"
    },
    "tags": []
   },
   "outputs": [
    {
     "name": "stdout",
     "output_type": "stream",
     "text": [
      "Shape von y_train: (42000,)\n",
      "Shape von X_train: (42000, 784)\n"
     ]
    }
   ],
   "source": [
    "# y_train soll nur die 'label'-Spalte enthalten\n",
    "y_train = train_df['label']\n",
    "\n",
    "# X_train soll ALLE Spalten AUSSER der 'label'-Spalte enthalten\n",
    "# Die .drop()-Methode ist dafür perfekt.\n",
    "X_train = train_df.drop(columns=['label'])\n",
    "\n",
    "# Überprüfe die Ergebnisse\n",
    "print(\"Shape von y_train:\", y_train.shape)\n",
    "print(\"Shape von X_train:\", X_train.shape)"
   ]
  },
  {
   "cell_type": "code",
   "execution_count": 4,
   "id": "468dcef7",
   "metadata": {
    "execution": {
     "iopub.execute_input": "2025-10-25T13:38:43.719769Z",
     "iopub.status.busy": "2025-10-25T13:38:43.719019Z",
     "iopub.status.idle": "2025-10-25T13:38:45.448828Z",
     "shell.execute_reply": "2025-10-25T13:38:45.447837Z"
    },
    "papermill": {
     "duration": 1.735214,
     "end_time": "2025-10-25T13:38:45.450339",
     "exception": false,
     "start_time": "2025-10-25T13:38:43.715125",
     "status": "completed"
    },
    "tags": []
   },
   "outputs": [
    {
     "name": "stdout",
     "output_type": "stream",
     "text": [
      "Neue Shape von X_train: (42000, 28, 28)\n",
      "Neue Shape von X_test: (28000, 28, 28)\n"
     ]
    }
   ],
   "source": [
    "# WICHTIG: Wir müssen das Gleiche für die Trainings- UND die Testdaten tun!\n",
    "# Lade zuerst die Testdaten\n",
    "test_df = pd.read_csv(\"/kaggle/input/digit-recognizer/test.csv\")\n",
    "\n",
    "# 1. Wandle die Pandas DataFrames in NumPy Arrays um\n",
    "X_train_numpy = X_train.values\n",
    "X_test_numpy = test_df.values\n",
    "\n",
    "# 2. Forme die Arrays um (Reshape)\n",
    "# Die -1 ist ein Platzhalter, der NumPy sagt: \"Berechne diese Dimension automatisch für mich.\"\n",
    "X_train_reshaped = X_train_numpy.reshape(-1, 28, 28)\n",
    "X_test_reshaped = X_test_numpy.reshape(-1, 28, 28)\n",
    "\n",
    "# 3. Überprüfe die neue Form! Das ist der Moment der Wahrheit.\n",
    "print(\"Neue Shape von X_train:\", X_train_reshaped.shape)\n",
    "print(\"Neue Shape von X_test:\", X_test_reshaped.shape)"
   ]
  },
  {
   "cell_type": "code",
   "execution_count": 5,
   "id": "9c94f391",
   "metadata": {
    "execution": {
     "iopub.execute_input": "2025-10-25T13:38:45.457388Z",
     "iopub.status.busy": "2025-10-25T13:38:45.457137Z",
     "iopub.status.idle": "2025-10-25T13:38:45.786285Z",
     "shell.execute_reply": "2025-10-25T13:38:45.785283Z"
    },
    "papermill": {
     "duration": 0.334352,
     "end_time": "2025-10-25T13:38:45.787824",
     "exception": false,
     "start_time": "2025-10-25T13:38:45.453472",
     "status": "completed"
    },
    "tags": []
   },
   "outputs": [
    {
     "name": "stdout",
     "output_type": "stream",
     "text": [
      "Datentyp nach der Normalisierung: float64\n",
      "Maximaler Pixelwert nach der Normalisierung: 1.0\n",
      "Minimaler Pixelwert nach der Normalisierung: 0.0\n"
     ]
    }
   ],
   "source": [
    "# Unsere reshaped Arrays aus dem letzten Schritt\n",
    "# X_train_reshaped, X_test_reshaped\n",
    "\n",
    "# 1. Normalisiere die Pixelwerte\n",
    "X_train_normalized = X_train_reshaped / 255.0\n",
    "X_test_normalized = X_test_reshaped / 255.0\n",
    "\n",
    "# 2. Überprüfe das Ergebnis (ein wichtiger Schritt für jeden Profi!)\n",
    "print(\"Datentyp nach der Normalisierung:\", X_train_normalized.dtype)\n",
    "print(\"Maximaler Pixelwert nach der Normalisierung:\", X_train_normalized.max())\n",
    "print(\"Minimaler Pixelwert nach der Normalisierung:\", X_train_normalized.min())"
   ]
  },
  {
   "cell_type": "code",
   "execution_count": 6,
   "id": "1decd1a8",
   "metadata": {
    "execution": {
     "iopub.execute_input": "2025-10-25T13:38:45.795454Z",
     "iopub.status.busy": "2025-10-25T13:38:45.795173Z",
     "iopub.status.idle": "2025-10-25T13:39:03.160692Z",
     "shell.execute_reply": "2025-10-25T13:39:03.159682Z"
    },
    "papermill": {
     "duration": 17.370954,
     "end_time": "2025-10-25T13:39:03.162129",
     "exception": false,
     "start_time": "2025-10-25T13:38:45.791175",
     "status": "completed"
    },
    "tags": []
   },
   "outputs": [
    {
     "name": "stderr",
     "output_type": "stream",
     "text": [
      "2025-10-25 13:38:47.877965: E external/local_xla/xla/stream_executor/cuda/cuda_fft.cc:477] Unable to register cuFFT factory: Attempting to register factory for plugin cuFFT when one has already been registered\n",
      "WARNING: All log messages before absl::InitializeLog() is called are written to STDERR\n",
      "E0000 00:00:1761399528.123195      13 cuda_dnn.cc:8310] Unable to register cuDNN factory: Attempting to register factory for plugin cuDNN when one has already been registered\n",
      "E0000 00:00:1761399528.194922      13 cuda_blas.cc:1418] Unable to register cuBLAS factory: Attempting to register factory for plugin cuBLAS when one has already been registered\n",
      "/usr/local/lib/python3.11/dist-packages/keras/src/layers/reshaping/flatten.py:37: UserWarning: Do not pass an `input_shape`/`input_dim` argument to a layer. When using Sequential models, prefer using an `Input(shape)` object as the first layer in the model instead.\n",
      "  super().__init__(**kwargs)\n",
      "2025-10-25 13:39:03.072958: E external/local_xla/xla/stream_executor/cuda/cuda_driver.cc:152] failed call to cuInit: INTERNAL: CUDA error: Failed call to cuInit: UNKNOWN ERROR (303)\n"
     ]
    },
    {
     "data": {
      "text/html": [
       "<pre style=\"white-space:pre;overflow-x:auto;line-height:normal;font-family:Menlo,'DejaVu Sans Mono',consolas,'Courier New',monospace\"><span style=\"font-weight: bold\">Model: \"sequential\"</span>\n",
       "</pre>\n"
      ],
      "text/plain": [
       "\u001b[1mModel: \"sequential\"\u001b[0m\n"
      ]
     },
     "metadata": {},
     "output_type": "display_data"
    },
    {
     "data": {
      "text/html": [
       "<pre style=\"white-space:pre;overflow-x:auto;line-height:normal;font-family:Menlo,'DejaVu Sans Mono',consolas,'Courier New',monospace\">┏━━━━━━━━━━━━━━━━━━━━━━━━━━━━━━━━━┳━━━━━━━━━━━━━━━━━━━━━━━━┳━━━━━━━━━━━━━━━┓\n",
       "┃<span style=\"font-weight: bold\"> Layer (type)                    </span>┃<span style=\"font-weight: bold\"> Output Shape           </span>┃<span style=\"font-weight: bold\">       Param # </span>┃\n",
       "┡━━━━━━━━━━━━━━━━━━━━━━━━━━━━━━━━━╇━━━━━━━━━━━━━━━━━━━━━━━━╇━━━━━━━━━━━━━━━┩\n",
       "│ flatten (<span style=\"color: #0087ff; text-decoration-color: #0087ff\">Flatten</span>)               │ (<span style=\"color: #00d7ff; text-decoration-color: #00d7ff\">None</span>, <span style=\"color: #00af00; text-decoration-color: #00af00\">784</span>)            │             <span style=\"color: #00af00; text-decoration-color: #00af00\">0</span> │\n",
       "├─────────────────────────────────┼────────────────────────┼───────────────┤\n",
       "│ dense (<span style=\"color: #0087ff; text-decoration-color: #0087ff\">Dense</span>)                   │ (<span style=\"color: #00d7ff; text-decoration-color: #00d7ff\">None</span>, <span style=\"color: #00af00; text-decoration-color: #00af00\">128</span>)            │       <span style=\"color: #00af00; text-decoration-color: #00af00\">100,480</span> │\n",
       "├─────────────────────────────────┼────────────────────────┼───────────────┤\n",
       "│ dropout (<span style=\"color: #0087ff; text-decoration-color: #0087ff\">Dropout</span>)               │ (<span style=\"color: #00d7ff; text-decoration-color: #00d7ff\">None</span>, <span style=\"color: #00af00; text-decoration-color: #00af00\">128</span>)            │             <span style=\"color: #00af00; text-decoration-color: #00af00\">0</span> │\n",
       "├─────────────────────────────────┼────────────────────────┼───────────────┤\n",
       "│ dense_1 (<span style=\"color: #0087ff; text-decoration-color: #0087ff\">Dense</span>)                 │ (<span style=\"color: #00d7ff; text-decoration-color: #00d7ff\">None</span>, <span style=\"color: #00af00; text-decoration-color: #00af00\">10</span>)             │         <span style=\"color: #00af00; text-decoration-color: #00af00\">1,290</span> │\n",
       "└─────────────────────────────────┴────────────────────────┴───────────────┘\n",
       "</pre>\n"
      ],
      "text/plain": [
       "┏━━━━━━━━━━━━━━━━━━━━━━━━━━━━━━━━━┳━━━━━━━━━━━━━━━━━━━━━━━━┳━━━━━━━━━━━━━━━┓\n",
       "┃\u001b[1m \u001b[0m\u001b[1mLayer (type)                   \u001b[0m\u001b[1m \u001b[0m┃\u001b[1m \u001b[0m\u001b[1mOutput Shape          \u001b[0m\u001b[1m \u001b[0m┃\u001b[1m \u001b[0m\u001b[1m      Param #\u001b[0m\u001b[1m \u001b[0m┃\n",
       "┡━━━━━━━━━━━━━━━━━━━━━━━━━━━━━━━━━╇━━━━━━━━━━━━━━━━━━━━━━━━╇━━━━━━━━━━━━━━━┩\n",
       "│ flatten (\u001b[38;5;33mFlatten\u001b[0m)               │ (\u001b[38;5;45mNone\u001b[0m, \u001b[38;5;34m784\u001b[0m)            │             \u001b[38;5;34m0\u001b[0m │\n",
       "├─────────────────────────────────┼────────────────────────┼───────────────┤\n",
       "│ dense (\u001b[38;5;33mDense\u001b[0m)                   │ (\u001b[38;5;45mNone\u001b[0m, \u001b[38;5;34m128\u001b[0m)            │       \u001b[38;5;34m100,480\u001b[0m │\n",
       "├─────────────────────────────────┼────────────────────────┼───────────────┤\n",
       "│ dropout (\u001b[38;5;33mDropout\u001b[0m)               │ (\u001b[38;5;45mNone\u001b[0m, \u001b[38;5;34m128\u001b[0m)            │             \u001b[38;5;34m0\u001b[0m │\n",
       "├─────────────────────────────────┼────────────────────────┼───────────────┤\n",
       "│ dense_1 (\u001b[38;5;33mDense\u001b[0m)                 │ (\u001b[38;5;45mNone\u001b[0m, \u001b[38;5;34m10\u001b[0m)             │         \u001b[38;5;34m1,290\u001b[0m │\n",
       "└─────────────────────────────────┴────────────────────────┴───────────────┘\n"
      ]
     },
     "metadata": {},
     "output_type": "display_data"
    },
    {
     "data": {
      "text/html": [
       "<pre style=\"white-space:pre;overflow-x:auto;line-height:normal;font-family:Menlo,'DejaVu Sans Mono',consolas,'Courier New',monospace\"><span style=\"font-weight: bold\"> Total params: </span><span style=\"color: #00af00; text-decoration-color: #00af00\">101,770</span> (397.54 KB)\n",
       "</pre>\n"
      ],
      "text/plain": [
       "\u001b[1m Total params: \u001b[0m\u001b[38;5;34m101,770\u001b[0m (397.54 KB)\n"
      ]
     },
     "metadata": {},
     "output_type": "display_data"
    },
    {
     "data": {
      "text/html": [
       "<pre style=\"white-space:pre;overflow-x:auto;line-height:normal;font-family:Menlo,'DejaVu Sans Mono',consolas,'Courier New',monospace\"><span style=\"font-weight: bold\"> Trainable params: </span><span style=\"color: #00af00; text-decoration-color: #00af00\">101,770</span> (397.54 KB)\n",
       "</pre>\n"
      ],
      "text/plain": [
       "\u001b[1m Trainable params: \u001b[0m\u001b[38;5;34m101,770\u001b[0m (397.54 KB)\n"
      ]
     },
     "metadata": {},
     "output_type": "display_data"
    },
    {
     "data": {
      "text/html": [
       "<pre style=\"white-space:pre;overflow-x:auto;line-height:normal;font-family:Menlo,'DejaVu Sans Mono',consolas,'Courier New',monospace\"><span style=\"font-weight: bold\"> Non-trainable params: </span><span style=\"color: #00af00; text-decoration-color: #00af00\">0</span> (0.00 B)\n",
       "</pre>\n"
      ],
      "text/plain": [
       "\u001b[1m Non-trainable params: \u001b[0m\u001b[38;5;34m0\u001b[0m (0.00 B)\n"
      ]
     },
     "metadata": {},
     "output_type": "display_data"
    }
   ],
   "source": [
    "import tensorflow as tf\n",
    "from tensorflow.keras.models import Sequential\n",
    "from tensorflow.keras.layers import Flatten, Dense, Dropout\n",
    "\n",
    "model = Sequential([\n",
    "    Flatten(input_shape=(28, 28)),\n",
    "    Dense(128, activation='relu'),\n",
    "    Dropout(0.2),\n",
    "    Dense(10, activation='softmax')\n",
    "])\n",
    "\n",
    "# Ein sehr nützlicher Befehl, um die Architektur zu überprüfen\n",
    "model.summary()"
   ]
  },
  {
   "cell_type": "code",
   "execution_count": 7,
   "id": "1a8d4b68",
   "metadata": {
    "execution": {
     "iopub.execute_input": "2025-10-25T13:39:03.171628Z",
     "iopub.status.busy": "2025-10-25T13:39:03.171092Z",
     "iopub.status.idle": "2025-10-25T13:39:03.187193Z",
     "shell.execute_reply": "2025-10-25T13:39:03.186292Z"
    },
    "papermill": {
     "duration": 0.022611,
     "end_time": "2025-10-25T13:39:03.188714",
     "exception": false,
     "start_time": "2025-10-25T13:39:03.166103",
     "status": "completed"
    },
    "tags": []
   },
   "outputs": [],
   "source": [
    "model.compile(optimizer='adam',\n",
    "              loss='sparse_categorical_crossentropy',\n",
    "              metrics=['accuracy'])"
   ]
  },
  {
   "cell_type": "code",
   "execution_count": 8,
   "id": "72add656",
   "metadata": {
    "execution": {
     "iopub.execute_input": "2025-10-25T13:39:03.197402Z",
     "iopub.status.busy": "2025-10-25T13:39:03.197100Z",
     "iopub.status.idle": "2025-10-25T13:39:23.242015Z",
     "shell.execute_reply": "2025-10-25T13:39:23.241018Z"
    },
    "papermill": {
     "duration": 20.051091,
     "end_time": "2025-10-25T13:39:23.243707",
     "exception": false,
     "start_time": "2025-10-25T13:39:03.192616",
     "status": "completed"
    },
    "tags": []
   },
   "outputs": [
    {
     "name": "stdout",
     "output_type": "stream",
     "text": [
      "Epoch 1/5\n",
      "\u001b[1m1313/1313\u001b[0m \u001b[32m━━━━━━━━━━━━━━━━━━━━\u001b[0m\u001b[37m\u001b[0m \u001b[1m5s\u001b[0m 3ms/step - accuracy: 0.8416 - loss: 0.5506\n",
      "Epoch 2/5\n",
      "\u001b[1m1313/1313\u001b[0m \u001b[32m━━━━━━━━━━━━━━━━━━━━\u001b[0m\u001b[37m\u001b[0m \u001b[1m4s\u001b[0m 3ms/step - accuracy: 0.9507 - loss: 0.1696\n",
      "Epoch 3/5\n",
      "\u001b[1m1313/1313\u001b[0m \u001b[32m━━━━━━━━━━━━━━━━━━━━\u001b[0m\u001b[37m\u001b[0m \u001b[1m4s\u001b[0m 3ms/step - accuracy: 0.9629 - loss: 0.1214\n",
      "Epoch 4/5\n",
      "\u001b[1m1313/1313\u001b[0m \u001b[32m━━━━━━━━━━━━━━━━━━━━\u001b[0m\u001b[37m\u001b[0m \u001b[1m4s\u001b[0m 3ms/step - accuracy: 0.9715 - loss: 0.0933\n",
      "Epoch 5/5\n",
      "\u001b[1m1313/1313\u001b[0m \u001b[32m━━━━━━━━━━━━━━━━━━━━\u001b[0m\u001b[37m\u001b[0m \u001b[1m4s\u001b[0m 3ms/step - accuracy: 0.9741 - loss: 0.0782\n"
     ]
    }
   ],
   "source": [
    "# Trainiere das Modell\n",
    "history = model.fit(X_train_normalized, y_train, epochs=5)"
   ]
  },
  {
   "cell_type": "code",
   "execution_count": 9,
   "id": "021b1cc3",
   "metadata": {
    "execution": {
     "iopub.execute_input": "2025-10-25T13:39:23.288472Z",
     "iopub.status.busy": "2025-10-25T13:39:23.288163Z",
     "iopub.status.idle": "2025-10-25T13:39:25.030359Z",
     "shell.execute_reply": "2025-10-25T13:39:25.029236Z"
    },
    "papermill": {
     "duration": 1.765929,
     "end_time": "2025-10-25T13:39:25.032032",
     "exception": false,
     "start_time": "2025-10-25T13:39:23.266103",
     "status": "completed"
    },
    "tags": []
   },
   "outputs": [
    {
     "name": "stdout",
     "output_type": "stream",
     "text": [
      "\u001b[1m875/875\u001b[0m \u001b[32m━━━━━━━━━━━━━━━━━━━━\u001b[0m\u001b[37m\u001b[0m \u001b[1m1s\u001b[0m 1ms/step\n"
     ]
    }
   ],
   "source": [
    "predictions = model.predict(X_test_normalized)"
   ]
  },
  {
   "cell_type": "code",
   "execution_count": 10,
   "id": "6d6d28ef",
   "metadata": {
    "execution": {
     "iopub.execute_input": "2025-10-25T13:39:25.078322Z",
     "iopub.status.busy": "2025-10-25T13:39:25.077682Z",
     "iopub.status.idle": "2025-10-25T13:39:25.082823Z",
     "shell.execute_reply": "2025-10-25T13:39:25.081771Z"
    },
    "papermill": {
     "duration": 0.029972,
     "end_time": "2025-10-25T13:39:25.084199",
     "exception": false,
     "start_time": "2025-10-25T13:39:25.054227",
     "status": "completed"
    },
    "tags": []
   },
   "outputs": [
    {
     "name": "stdout",
     "output_type": "stream",
     "text": [
      "Shape von Predictions (28000, 10)\n"
     ]
    }
   ],
   "source": [
    "print (\"Shape von Predictions\", predictions.shape)"
   ]
  },
  {
   "cell_type": "code",
   "execution_count": 11,
   "id": "62e96f7f",
   "metadata": {
    "execution": {
     "iopub.execute_input": "2025-10-25T13:39:25.130219Z",
     "iopub.status.busy": "2025-10-25T13:39:25.129920Z",
     "iopub.status.idle": "2025-10-25T13:39:25.135174Z",
     "shell.execute_reply": "2025-10-25T13:39:25.134176Z"
    },
    "papermill": {
     "duration": 0.030595,
     "end_time": "2025-10-25T13:39:25.136833",
     "exception": false,
     "start_time": "2025-10-25T13:39:25.106238",
     "status": "completed"
    },
    "tags": []
   },
   "outputs": [
    {
     "name": "stdout",
     "output_type": "stream",
     "text": [
      "\n",
      " Wahrscheinlichkeitsverteilung für das erste Bild:\n",
      "[3.4348338e-07 1.7006153e-11 9.9997085e-01 2.6754977e-05 7.4903694e-11\n",
      " 1.2524113e-07 2.5661000e-09 1.5484940e-06 4.0024602e-07 2.2078424e-09]\n"
     ]
    }
   ],
   "source": [
    "print(\"\\n Wahrscheinlichkeitsverteilung für das erste Bild:\")\n",
    "print(predictions[0])"
   ]
  },
  {
   "cell_type": "code",
   "execution_count": 12,
   "id": "0b8e3a16",
   "metadata": {
    "execution": {
     "iopub.execute_input": "2025-10-25T13:39:25.181305Z",
     "iopub.status.busy": "2025-10-25T13:39:25.180872Z",
     "iopub.status.idle": "2025-10-25T13:39:25.364151Z",
     "shell.execute_reply": "2025-10-25T13:39:25.363019Z"
    },
    "papermill": {
     "duration": 0.207382,
     "end_time": "2025-10-25T13:39:25.365981",
     "exception": false,
     "start_time": "2025-10-25T13:39:25.158599",
     "status": "completed"
    },
    "tags": []
   },
   "outputs": [
    {
     "name": "stdout",
     "output_type": "stream",
     "text": [
      "DEBUG: Starte den finalen Submission-Block.\n",
      "DEBUG: 'predictions' existiert. Shape ist: (28000, 10)\n",
      "DEBUG: np.argmax war erfolgreich. Shape der finalen Predictions ist: (28000,)\n",
      "DEBUG: Submission DataFrame erstellt. Er hat 28000 Zeilen.\n",
      "DEBUG: Versuche jetzt, 'submission.csv' zu schreiben...\n",
      "DEBUG: 'submission.csv' wurde hoffentlich erfolgreich geschrieben!\n",
      "total 408\r\n",
      "---------- 1 root root 201240 Oct 25 13:39 __notebook__.ipynb\r\n",
      "-rw-r--r-- 1 root root 212908 Oct 25 13:39 submission.csv\r\n"
     ]
    }
   ],
   "source": [
    "print(\"DEBUG: Starte den finalen Submission-Block.\")\n",
    "\n",
    "# --- SCHRITT A: Entscheiden ---\n",
    "# Wir überprüfen, ob die 'predictions'-Variable überhaupt existiert\n",
    "if 'predictions' in locals():\n",
    "    print(f\"DEBUG: 'predictions' existiert. Shape ist: {predictions.shape}\")\n",
    "    final_predictions = np.argmax(predictions, axis=1)\n",
    "    print(f\"DEBUG: np.argmax war erfolgreich. Shape der finalen Predictions ist: {final_predictions.shape}\")\n",
    "else:\n",
    "    print(\"FATAL DEBUG ERROR: Die Variable 'predictions' wurde in diesem Lauf nicht erstellt!\")\n",
    "    # Wir erstellen eine Dummy-Variable, damit der Code nicht abstürzt, aber wir wissen, dass etwas falsch ist\n",
    "    final_predictions = np.zeros(28000, dtype=int)\n",
    "\n",
    "# --- SCHRITT B: Aufschreiben ---\n",
    "# Erstelle den DataFrame für die Submission\n",
    "submission_df = pd.DataFrame({\n",
    "    \"ImageId\": range(1, len(final_predictions) + 1),\n",
    "    \"Label\": final_predictions\n",
    "})\n",
    "print(f\"DEBUG: Submission DataFrame erstellt. Er hat {len(submission_df)} Zeilen.\")\n",
    "\n",
    "# Speichere den DataFrame als CSV-Datei\n",
    "print(\"DEBUG: Versuche jetzt, 'submission.csv' zu schreiben...\")\n",
    "submission_df.to_csv('submission.csv', index=False)\n",
    "print(\"DEBUG: 'submission.csv' wurde hoffentlich erfolgreich geschrieben!\")\n",
    "\n",
    "# Überprüfen, ob die Datei wirklich existiert\n",
    "!ls -l\n"
   ]
  }
 ],
 "metadata": {
  "kaggle": {
   "accelerator": "none",
   "dataSources": [
    {
     "databundleVersionId": 861823,
     "sourceId": 3004,
     "sourceType": "competition"
    }
   ],
   "dockerImageVersionId": 31153,
   "isGpuEnabled": false,
   "isInternetEnabled": true,
   "language": "python",
   "sourceType": "notebook"
  },
  "kernelspec": {
   "display_name": "Python 3",
   "language": "python",
   "name": "python3"
  },
  "language_info": {
   "codemirror_mode": {
    "name": "ipython",
    "version": 3
   },
   "file_extension": ".py",
   "mimetype": "text/x-python",
   "name": "python",
   "nbconvert_exporter": "python",
   "pygments_lexer": "ipython3",
   "version": "3.11.13"
  },
  "papermill": {
   "default_parameters": {},
   "duration": 54.182872,
   "end_time": "2025-10-25T13:39:28.321176",
   "environment_variables": {},
   "exception": null,
   "input_path": "__notebook__.ipynb",
   "output_path": "__notebook__.ipynb",
   "parameters": {},
   "start_time": "2025-10-25T13:38:34.138304",
   "version": "2.6.0"
  }
 },
 "nbformat": 4,
 "nbformat_minor": 5
}
